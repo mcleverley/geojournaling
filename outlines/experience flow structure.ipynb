{
 "cells": [
  {
   "cell_type": "markdown",
   "metadata": {
    "toc": true
   },
   "source": [
    "<h1>Table of Contents<span class=\"tocSkip\"></span></h1>\n",
    "<div class=\"toc\"><ul class=\"toc-item\"><li><span><a href=\"#Outline-of-user-experience-flow\" data-toc-modified-id=\"Outline-of-user-experience-flow-1\"><span class=\"toc-item-num\">1&nbsp;&nbsp;</span>Outline of user experience flow</a></span></li></ul></div>"
   ]
  },
  {
   "cell_type": "markdown",
   "metadata": {},
   "source": [
    "tesselation\n",
    "- glossary:\n",
    "    - when you write an original piece and pin it to a hex, it's called a 'post', and begins a 'thread'\n",
    "    - comments can be added to the thread\n",
    "    "
   ]
  },
  {
   "cell_type": "markdown",
   "metadata": {},
   "source": [
    "# Outline of user experience flow\n",
    "\n",
    "in general, features involving content (posts, comments etc) can be sorted/filtered based on: recent, popular, tags, user (if relevant).\n",
    "\n",
    "- Home screen. List of buttons on bottom bar:\n",
    "    - 1) Map\n",
    "        - the entire geoscape as a mercator map, scrollable, zoomable\n",
    "        - multiple filter overlays available (based on tags, create custom filters)\n",
    "        - Threads are visible as a color density gradient\n",
    "            - so from far away, you see blobbier colors; zoom and you see differentiation in hexes (work with different thresholds based on hex size)\n",
    "        - tapping a spot (zoomed out, multiple hexes within) returns most popular+most recent posts for group of selected hexes: does the same for one if tapping one hex\n",
    "            - it returns the title+tags for the post, rather. doesn't open it\n",
    "    - 2) Hex (current location)\n",
    "        - Create new post in current hex\n",
    "        - View threads in current hex\n",
    "            - Open someone's thread\n",
    "            - comment on someone's thread\n",
    "    - 3) Feed (social structure)\n",
    "        - psuedo notification feed you curate, including:\n",
    "            - posts from profiles you follow\n",
    "            - posts near you\n",
    "            - posts in region you've marked as interested (if you like the mountains but live in the city)\n",
    "            - posts with tags you follow\n",
    "        - optional 'suggestions'\n",
    "            - basic predictive algos: users, posts, tags you may be interested in, based on your previous use data\n",
    "    - 4) Profile (user's own page)\n",
    "        - overview of all posted content, sortable\n",
    "            - curate/edit own posts (within certain timeframe perhaps?)\n",
    "        - statistics: # written, comments, viewed\n",
    "        - fun graph statistics like \"how far you roam\" (= 'how dense is your hexgraph')\n",
    "            - we'd have to collect data on hexes they've entered/exited + viewing/writing statistics\n",
    "        - lists for:\n",
    "            - people you follow\n",
    "            - your followers\n",
    "            - 'archive': posts you've personally opened, sort by user, tags, popular or recent\n",
    "    - 5) Messages ?\n",
    "        - probably necessary if we have 'friend/follow' system, users need to be able to communicate\n",
    "           - or would people just send each other posts and images to bypass the \n"
   ]
  },
  {
   "cell_type": "markdown",
   "metadata": {},
   "source": [
    "so an average user experience on all four parts of the app might look like:\n",
    "\n",
    "- user opens app, already signed in. default screen is Map\n",
    "    - on Map: briefly views area around them (local town, maybe city or state. however far their personal friend/follow network extends)\n",
    "    - checks Feed to get an idea of who posted what recently\n",
    "    - goes back to map"
   ]
  },
  {
   "cell_type": "markdown",
   "metadata": {},
   "source": [
    "- variables to consider:\n",
    "    - hex size\n",
    "            - too large and different 'places' will overlap and compete for visibility in Hex window\n",
    "            - too small and data graph gets exponentially more complex + a 'place' could become too fragmented\n",
    "        - "
   ]
  },
  {
   "cell_type": "code",
   "execution_count": null,
   "metadata": {},
   "outputs": [],
   "source": []
  },
  {
   "cell_type": "code",
   "execution_count": null,
   "metadata": {},
   "outputs": [],
   "source": []
  },
  {
   "cell_type": "code",
   "execution_count": null,
   "metadata": {},
   "outputs": [],
   "source": []
  },
  {
   "cell_type": "code",
   "execution_count": null,
   "metadata": {},
   "outputs": [],
   "source": []
  },
  {
   "cell_type": "code",
   "execution_count": null,
   "metadata": {},
   "outputs": [],
   "source": []
  },
  {
   "cell_type": "code",
   "execution_count": null,
   "metadata": {},
   "outputs": [],
   "source": []
  }
 ],
 "metadata": {
  "kernelspec": {
   "display_name": "Python 3",
   "language": "python",
   "name": "python3"
  },
  "language_info": {
   "codemirror_mode": {
    "name": "ipython",
    "version": 3
   },
   "file_extension": ".py",
   "mimetype": "text/x-python",
   "name": "python",
   "nbconvert_exporter": "python",
   "pygments_lexer": "ipython3",
   "version": "3.7.4"
  },
  "toc": {
   "base_numbering": 1,
   "nav_menu": {},
   "number_sections": true,
   "sideBar": true,
   "skip_h1_title": false,
   "title_cell": "Table of Contents",
   "title_sidebar": "Contents",
   "toc_cell": true,
   "toc_position": {},
   "toc_section_display": true,
   "toc_window_display": true
  }
 },
 "nbformat": 4,
 "nbformat_minor": 2
}
