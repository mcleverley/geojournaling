{
 "cells": [
  {
   "cell_type": "markdown",
   "metadata": {
    "toc": true
   },
   "source": [
    "<h1>Table of Contents<span class=\"tocSkip\"></span></h1>\n",
    "<div class=\"toc\"><ul class=\"toc-item\"><li><span><a href=\"#Design-Philosophy\" data-toc-modified-id=\"Design-Philosophy-1\"><span class=\"toc-item-num\">1&nbsp;&nbsp;</span>Design Philosophy</a></span></li><li><span><a href=\"#Outline-of-user-experience-flow\" data-toc-modified-id=\"Outline-of-user-experience-flow-2\"><span class=\"toc-item-num\">2&nbsp;&nbsp;</span>Outline of user experience flow</a></span></li></ul></div>"
   ]
  },
  {
   "cell_type": "markdown",
   "metadata": {},
   "source": [
    "tesselation is fascinating\n",
    "\n",
    "# Design Philosophy\n",
    "\n",
    "\n",
    "- the core idea is that each Hex represents a 'place' on the planet, a point in space. you, the user, leave your mark in time by posting or commenting on someone's post.\n",
    "    - to open and view a post (beyond just the title, author+tags) you have to enter the hex. to experience someone's memory, you must put yourself in the space, and the app bridges time for you.\n",
    "        - this brings up an interesting idea about accessibility, and potentially driving people away with designed 'inconvenience': shouldn't we add some feature to ease the burden for friends who can't see each other over distance, or people who can't travel?\n",
    "           - i'm not completely against some feature to ease severe pain points, but contrived inaccessibility is the whole point.\n",
    "               - \"perfect attainability\" is the theme of all modern media. everything at your fingertips instantly, to incentivize passive consumption of an endless stream, generating the maximum attention-to-advertising per user. a society that devours space endlessly, collapsing the vast earth into a bland singularity of marketing statistics.\n",
    "                   - by introducing constraint, users are forced to physically engage with the world around them: to consider how their memories and experiences are entangled locations and moments, to rejoin the concepts of space and time.\n",
    "                   - so it's designed to be more sparse, incentivizing quality over quantity, local communities and hidden treasures instead of global-reach lowest-denominator clickbait.\n",
    "                       - pretentious? certainly. people lack any kind of meaningful tension in their lives, and adding pretense is a fine way to combat the issue.\n",
    "\n",
    "- note on language:\n",
    "    - when you write an original piece and pin it to a hex, it's called a 'post', and begins a 'thread'\n",
    "    - comments can be added to the thread\n",
    "    "
   ]
  },
  {
   "cell_type": "markdown",
   "metadata": {},
   "source": [
    "# Outline of user experience flow\n",
    "\n",
    "in general, features involving content (posts, comments etc) can be sorted/filtered based on: recent, popular, tags, user (if relevant).\n",
    "\n",
    "- Home screen. List of buttons on bottom bar:\n",
    "    - 1) Map\n",
    "        - the entire geoscape as a mercator map, scrollable, zoomable\n",
    "        - multiple filter overlays available (based on tags, create custom filters)\n",
    "        - Threads are visible as a color density gradient\n",
    "            - so from far away, you see blobbier colors; zoom and you see differentiation in hexes (work with different thresholds based on hex size)\n",
    "        - tapping a spot (zoomed out, multiple hexes within) returns most popular+most recent posts for group of selected hexes: does the same for one if tapping one hex\n",
    "            - it returns the title+tags for the post, rather. doesn't open it\n",
    "    - 2) Hex (current location)\n",
    "        - Create new post in current hex\n",
    "        - View threads in current hex\n",
    "            - Open someone's thread\n",
    "            - comment on someone's thread\n",
    "    - 3) Feed (social structure)\n",
    "        - psuedo notification feed you curate, including:\n",
    "            - posts from profiles you follow\n",
    "            - posts near you\n",
    "            - posts in region you've marked as interested (if you like the mountains but live in the city)\n",
    "            - posts with tags you follow\n",
    "        - optional 'suggestions'\n",
    "            - basic predictive algos: users, posts, tags you may be interested in, based on your previous use data\n",
    "    - 4) Profile (user's own page)\n",
    "        - overview of all posted content, sortable\n",
    "            - curate/edit own posts (within certain timeframe perhaps?)\n",
    "        - statistics: # written, comments, viewed\n",
    "        - fun graph statistics like \"how far you roam\" (= 'how dense is your hexgraph')\n",
    "            - we'd have to collect data on hexes they've entered/exited + viewing/writing statistics\n",
    "        - lists for:\n",
    "            - people you follow\n",
    "            - your followers\n",
    "            - 'archive': posts you've personally opened, sort by user, tags, popular or recent\n",
    "    - 5) Messages ?\n",
    "        - probably necessary if we have 'friend/follow' system, users need to be able to communicate\n",
    "           - or would people just send each other posts and images to bypass the location aspect\n",
    "           - that sounds like too much of a hassle for people to actually do. if people want pure ease-of-access reach, there's facebook/instagram etc\n"
   ]
  },
  {
   "cell_type": "markdown",
   "metadata": {},
   "source": [
    "so an average user experience on all four parts of the app might look like:\n",
    "\n",
    "- user opens app, already signed in. default screen is Map\n",
    "    - on Map: briefly views area around them (local town, maybe city or state. however far their personal friend/follow network extends)\n",
    "    - checks Feed to get an idea of who posted what recently\n",
    "    - clicks on their friend's post at a local hangout spot\n",
    "    - walks to that hex, leaves a comment on their thread\n",
    "    - later that evening at a different spot, opens Hex & makes a new post\n",
    "    - checks profile on way home\n"
   ]
  },
  {
   "cell_type": "markdown",
   "metadata": {},
   "source": [
    "- variables to consider:\n",
    "    - hex size\n",
    "            - too large and different 'places' will overlap and compete for visibility in Hex window\n",
    "            - too small and data graph gets exponentially more complex + a 'place' could become too fragmented\n",
    "        - different size hexes would be too chaotic\n",
    "            - hexagons can't tesselate inside of other hexagons. need triangles or rhomboids, which mess up the graph spacial integrity\n",
    "        - it depends on the size of 'places' and which sort of area we want to cater to.\n",
    "            - urban areas are more population/activity dense; a 'place' could be as big as thirty square feet in NYC. bad case = 'unrelated' places overlapping\n",
    "                - each\n",
    "            - suburban, rural and natural spaces are lower density accordingly\n",
    "            - find a balance where city spaces aren't crammed too tightly into big hexes, while nature spaces aren't too fragmented in small ones"
   ]
  },
  {
   "cell_type": "code",
   "execution_count": null,
   "metadata": {},
   "outputs": [],
   "source": []
  },
  {
   "cell_type": "code",
   "execution_count": null,
   "metadata": {},
   "outputs": [],
   "source": []
  },
  {
   "cell_type": "code",
   "execution_count": null,
   "metadata": {},
   "outputs": [],
   "source": []
  },
  {
   "cell_type": "code",
   "execution_count": null,
   "metadata": {},
   "outputs": [],
   "source": []
  },
  {
   "cell_type": "code",
   "execution_count": null,
   "metadata": {},
   "outputs": [],
   "source": []
  },
  {
   "cell_type": "code",
   "execution_count": null,
   "metadata": {},
   "outputs": [],
   "source": []
  }
 ],
 "metadata": {
  "kernelspec": {
   "display_name": "Python 3",
   "language": "python",
   "name": "python3"
  },
  "language_info": {
   "codemirror_mode": {
    "name": "ipython",
    "version": 3
   },
   "file_extension": ".py",
   "mimetype": "text/x-python",
   "name": "python",
   "nbconvert_exporter": "python",
   "pygments_lexer": "ipython3",
   "version": "3.7.4"
  },
  "toc": {
   "base_numbering": 1,
   "nav_menu": {},
   "number_sections": true,
   "sideBar": true,
   "skip_h1_title": false,
   "title_cell": "Table of Contents",
   "title_sidebar": "Contents",
   "toc_cell": true,
   "toc_position": {},
   "toc_section_display": true,
   "toc_window_display": true
  }
 },
 "nbformat": 4,
 "nbformat_minor": 2
}
